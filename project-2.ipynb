{
 "cells": [
  {
   "cell_type": "code",
   "execution_count": null,
   "metadata": {},
   "outputs": [],
   "source": [
    "import plotly.io as pio\n",
    "pio.renderers.default='notebook'"
   ]
  },
  {
   "cell_type": "markdown",
   "metadata": {},
   "source": [
    "Title of Final Project: Heart Failure Predictions\n",
    "\n",
    "Section: 52745\n",
    "\n",
    "Group Number: 14\n",
    "\n",
    "Student: Vaishnavi Sathiyamoorthy\n",
    "\n",
    "UT EID: vs25229\n",
    "\n",
    "Student: Medha Nalamada\n",
    "\n",
    "UT EID: mrn789\n",
    "\n",
    "Student: Alex Hohmann\n",
    "\n",
    "UT EID: ajh5399\n",
    "\n",
    "Student: Saivachan Ponnapolli\n",
    "\n",
    "UT EID: sp48347\n",
    "\n",
    "Date: 11/06/2023"
   ]
  },
  {
   "cell_type": "markdown",
   "metadata": {},
   "source": [
    "# Goal\n",
    "Cardiovascular disease is the leading cause of death around the world. If we are able to predict whether an individual will have cardiovascular disease, it can save numerous lives. This dataset consists of 11 factors that potentially predicts heart failure: age, sex, chest pain type, resting blood pressure, cholesterol, fasting blood sugar, resting ECG, maximum heart rate, exercise induced angina, old peak, and the slope of peak exercise. Using statistics and machine learning, this project aims to determine if these factors can predict whether an individual will have cardiovascular disease."
   ]
  },
  {
   "cell_type": "code",
   "execution_count": null,
   "metadata": {},
   "outputs": [],
   "source": [
    "import pandas as pd\n",
    "#!pip install altair --upgrade --user\n",
    "import altair as alt\n",
    "import plotly.express as px\n",
    "import matplotlib.pyplot as plt\n",
    "import seaborn as sns\n",
    "import numpy as np\n",
    "\n",
    "df = pd.read_csv(\"heart.csv\")\n",
    "\n",
    "df = df.drop(['Cholesterol'],axis=1)\n",
    "df = df[df['RestingBP']!=0]"
   ]
  },
  {
   "cell_type": "markdown",
   "metadata": {},
   "source": [
    "To begin our visualization, we initially explored the distribution of heart disease against numerous variables in our dataset. In addition, we also built a correlation matrix to identify variables of interest. Overall, these two graphs will help us understand the nature of our dataset and will support our exploratory data analysis to help identify what will predict heart disease the best"
   ]
  },
  {
   "cell_type": "code",
   "execution_count": null,
   "metadata": {},
   "outputs": [],
   "source": [
    "countfeature = [\"ChestPainType\", \"FastingBS\", \"RestingECG\", \"ExerciseAngina\", \"ExerciseAngina\", \"ST_Slope\"]\n",
    "countlist = list(enumerate(countfeature))\n",
    "\n",
    "plt.figure(figsize = (15,10))\n",
    "plt.suptitle(\"Heart Disease against other Metrics\", fontsize=25,color='black')\n",
    "for i in countlist:\n",
    "    plt.subplot(3,3,i[0]+1)\n",
    "    sns.countplot(data = df, x = i[1], hue = \"HeartDisease\", palette=\"YlGnBu\")\n",
    "    plt.ylabel(\"\")\n",
    "    plt.legend(['Heart Disease', 'No Heart Disease'], loc='upper right', prop={'size': 10})\n",
    "plt.tight_layout()\n",
    "plt.show()"
   ]
  },
  {
   "cell_type": "code",
   "execution_count": null,
   "metadata": {},
   "outputs": [],
   "source": [
    "numeric_df = df.select_dtypes(include='number')\n",
    "\n",
    "fig = plt.figure(figsize=(12,8),dpi=200)\n",
    "sns.heatmap(data=numeric_df.corr(),annot=True,cmap='RdYlBu')\n",
    "plt.tight_layout()\n",
    "plt.savefig(\"correlation_matrix.png\", dpi = 300)"
   ]
  },
  {
   "cell_type": "markdown",
   "metadata": {},
   "source": [
    "## Arguments ##\n",
    "Based on the EDA above, we have identified 5 key arguments to substantiate further explorations:\n",
    "- Individuals who are older and have higher resting blood pressure have a higher risk of heart disease.\n",
    "- Individuals who are older and have lower maximum heart rates have a higher risk of heart disease.\n",
    "- Those with a typical angina have a higher risk for heart disease.\n",
    "- Those that are older and have a higher old peak slope have a higher risk for heart disease.\n",
    "- Individuals who exhibit ExerciseAngina have a higher risk for heart disease across both sexes and all age groups.\n"
   ]
  },
  {
   "cell_type": "markdown",
   "metadata": {},
   "source": [
    "#### 1. Sex vs Heart Disease"
   ]
  },
  {
   "cell_type": "code",
   "execution_count": null,
   "metadata": {},
   "outputs": [],
   "source": [
    "df_counts = df.groupby(['Sex', 'HeartDisease']).size().reset_index(name='Count')\n",
    "\n",
    "color_discrete_map = {0: '#1f78b4', 1: '#ff7f0e'}\n",
    "\n",
    "fig = px.bar(df_counts, x='Sex', y='Count', color='HeartDisease', title='Heart Disease by Gender',\n",
    "             labels={'Sex': 'Gender', 'HeartDisease': 'Heart Disease'},\n",
    "             color_discrete_map=color_discrete_map,\n",
    "             barmode='stack')\n",
    "\n",
    "fig.update_layout(height=400, width=600)\n",
    "\n",
    "fig.show(\"notebook\")"
   ]
  },
  {
   "cell_type": "markdown",
   "metadata": {},
   "source": [
    "#### 2. RestingBP, Age, and HeartDisease ####"
   ]
  },
  {
   "cell_type": "code",
   "execution_count": null,
   "metadata": {},
   "outputs": [],
   "source": [
    "selector = alt.selection_point(fields=['Age'], empty=True)\n",
    "\n",
    "main = alt.Chart(df).properties(\n",
    "    width=250,\n",
    "    height=250\n",
    ").add_params(selector).mark_bar().encode(\n",
    "    x=alt.X('Age:Q', title='Age'),\n",
    "    y=alt.Y('count():Q', title='Frequency'),\n",
    "    color=alt.condition(\n",
    "        selector,\n",
    "        alt.Color(\"HeartDisease:N\",\n",
    "                  scale=alt.Scale(scheme='category10')),\n",
    "        alt.value('lightgray')\n",
    "    )\n",
    ")\n",
    "\n",
    "sub = alt.Chart(df).transform_filter(\n",
    "    selector\n",
    ").transform_aggregate(\n",
    "    Frequency='count():Q',\n",
    "    groupby=['RestingBP', 'HeartDisease']\n",
    ").mark_bar().encode(\n",
    "    x=alt.X('RestingBP:Q', title='Resting Blood Pressure'),\n",
    "    y=alt.Y('Frequency:Q', title='Frequency'),\n",
    "    color=alt.Color('HeartDisease:N', scale=alt.Scale(scheme='category10'), title='Heart Disease')\n",
    ").properties(\n",
    "    title='Heart Disease by Age and Resting Blood Pressure'\n",
    ")\n",
    "\n",
    "main | sub"
   ]
  },
  {
   "cell_type": "markdown",
   "metadata": {},
   "source": [
    "The above plot is 2 combined bar charts to show the distribution of resting blood pressure for each age group. Upon selecting a bar for age on the left plot, the right plot will display a distribution of the resting blood pressure for that age group, with the bars being stacked to observe the presence of heart disease. The contrasting colors for the presence of heart disease (blue for 0; orange for 1) makes the difference amongst distributions immediately visible. We can see that those who are older tend to have heart disease and within each age group, those with higher blood pressure have heart disease."
   ]
  },
  {
   "cell_type": "markdown",
   "metadata": {},
   "source": [
    "#### 3. MaxHR, Age, and HeartDisease ####"
   ]
  },
  {
   "cell_type": "code",
   "execution_count": null,
   "metadata": {},
   "outputs": [],
   "source": [
    "fig = px.scatter(df, x='Age', y='MaxHR', color='HeartDisease',\n",
    "                 color_continuous_scale=['blue', 'orange'], title='Heart Disease by Age vs. MaxHR',\n",
    "                 labels={'Age': 'Age', 'MaxHR': 'MaxHR', 'HeartDisease': 'Heart Disease'},\n",
    "                 hover_data={'Age': True, 'MaxHR': True, 'HeartDisease': True})\n",
    "\n",
    "fig.update_traces(marker=dict(size=8),\n",
    "                  selector=dict(mode='markers+text', textfont=dict(family='Arial', size=12)))\n",
    "\n",
    "fig.update_layout(height=400, width=600)\n",
    "\n",
    "fig.show(\"notebook\")"
   ]
  },
  {
   "cell_type": "markdown",
   "metadata": {},
   "source": [
    "We also explored the relationship between Age and MaxHR as the correlation matrix found the variables to be correlated and we visually want to see how HeartDisease plays into this dynamic. The plot is an interactive scatter plot with color indicating the presence of heart disease. Hovering over the data points will provide the exact maximum heart rate and the overall plot shows the negative correlation between Age and MaxHR, intuitively confirming that people’s heart rates will reduce as they get older. The scatter points also show a higher concentration of yellow dots as age increases and MaxHR decreases, indicating that heart disease is more prevalent in older individuals with lower maximum heart rates."
   ]
  },
  {
   "cell_type": "markdown",
   "metadata": {},
   "source": [
    "#### 4. Oldpeak, Age, and HeartDisease ####"
   ]
  },
  {
   "cell_type": "code",
   "execution_count": null,
   "metadata": {},
   "outputs": [],
   "source": [
    "interval = alt.selection_interval()\n",
    "\n",
    "scatter = alt.Chart(df).mark_point().encode(\n",
    "    x='Age',\n",
    "    y='Oldpeak',\n",
    "    color=alt.condition(interval, 'HeartDisease', alt.value('lightgray'))\n",
    ").add_params(\n",
    "    interval\n",
    ").properties(\n",
    "    title = 'Heart Disease by Age vs. Oldpeak'\n",
    ")\n",
    "\n",
    "hist = alt.Chart(df).mark_bar().encode(\n",
    "    x='count(HeartDisease):Q',\n",
    "    y='HeartDisease:N',\n",
    "    color='HeartDisease:N'\n",
    ").transform_filter(\n",
    "    interval\n",
    ")\n",
    "\n",
    "scatter & hist"
   ]
  },
  {
   "cell_type": "markdown",
   "metadata": {},
   "source": [
    "The above plot is a combined scatter and bar plot to explain the relationship between Oldpeak and HeartDisease. It uses selection and upon selecting a range in the top chart, we can see the count of people with heart disease in the bottom chart, for a given range of Oldpeak values. Oldpeak is the most correlated with heart disease and we can see that as we select values for Oldpeak higher than 0, the count of people with heart disease is increasing."
   ]
  },
  {
   "cell_type": "markdown",
   "metadata": {},
   "source": [
    "#### 5. ChestPainType and HeartDisease ####"
   ]
  },
  {
   "cell_type": "code",
   "execution_count": null,
   "metadata": {},
   "outputs": [],
   "source": [
    "bars = alt.Chart(df).mark_bar().encode(\n",
    "    x=alt.X('ChestPainType:N', title='Chest Pain Type'),\n",
    "    y=alt.Y('count(HeartDisease):Q', title='Count'),\n",
    "    color=alt.Color('HeartDisease:N', scale=alt.Scale(scheme='category10'), title='Heart Disease'),\n",
    "    tooltip=['ChestPainType:N', 'count(HeartDisease):Q']\n",
    ").properties(\n",
    "    width=300,\n",
    "    height=300,\n",
    "    title = 'Heart Disease by Chest Pain Type'\n",
    ")\n",
    "\n",
    "bars"
   ]
  },
  {
   "cell_type": "markdown",
   "metadata": {},
   "source": [
    "We also wanted to see the variation of heart disease with different chest pain types with a simple stacked bar plot. Most cases are asymptomatic and hovering over the chart will reveal the exact count of people with or without heart disease. The results are also connected the number of entries per chest pain type, but the separation of the stack is interesting to visualize and  For example, although there are fewest of ChestPainType TA, the split is almost 50/50, which is important for our analysis and can be used later to make compelling inferences."
   ]
  },
  {
   "cell_type": "markdown",
   "metadata": {},
   "source": [
    "#### 6. ExerciseAngina, MaxHR and HeartDisease by Gender ####"
   ]
  },
  {
   "cell_type": "code",
   "execution_count": null,
   "metadata": {},
   "outputs": [],
   "source": [
    "scatterplot = alt.Chart(df).mark_circle().encode(\n",
    "    y=alt.Y('ExerciseAngina:N', title='Exercise Angina'),\n",
    "    x=alt.X('MaxHR:Q', title='Max Heart Rate'),\n",
    "    color=alt.Color('HeartDisease:N', scale=alt.Scale(scheme='category10'), title='Heart Disease'),\n",
    "    tooltip=['ExerciseAngina', 'MaxHR', 'HeartDisease'],\n",
    "    ).properties(\n",
    "    width=400,\n",
    "    height=200\n",
    ")\n",
    "\n",
    "age_slider = alt.binding_range(min=30, max=60, step=1, name='Age:')\n",
    "select_age = alt.selection_point(name='Age', fields=['Age'], bind=age_slider)\n",
    "\n",
    "filtered_scatterplot = scatterplot.add_params(select_age).transform_filter(select_age)\n",
    "\n",
    "male_scatterplot = filtered_scatterplot.transform_filter(alt.datum.Sex == 'M')\n",
    "female_scatterplot = filtered_scatterplot.transform_filter(alt.datum.Sex == 'F')\n",
    "\n",
    "male_scatterplot = male_scatterplot.properties(title='Male')\n",
    "female_scatterplot = female_scatterplot.properties(title='Female')\n",
    "\n",
    "combined_scatterplot = alt.hconcat(male_scatterplot, female_scatterplot).resolve_scale(x='shared')\n",
    "\n",
    "\n",
    "combined_scatterplot = combined_scatterplot.properties(\n",
    "    title='ExerciseAngina vs. MaxHR for Male and Female'\n",
    ") \n",
    "scatterplot_viewer = combined_scatterplot\n",
    "scatterplot_viewer"
   ]
  },
  {
   "cell_type": "markdown",
   "metadata": {},
   "source": [
    "The variable ExerciseAngina is also one of heavy interest. It indiciates whether chest pain occurs during exercise specifically, and can thus also be compared to heart rate. Hence, this plot explores if cardiovascular disease was exercise-based for this dataset and also separates for gender to see if there is any relevance. The Altair plot shows a combined chart to compare between presence of ExerciseAngina and the distribution of the heart rate values for each age for males vs. females. Interactively, the slider controls for the specific age and we can see the differences in the scatter plot for each gender, with the points being color-coded orange for the presence of heart disease and blue for the absence. The visualization reveals that in all age groups, exercise angina did associate with heart disease prevalence across heart rates. Yet, where there was no exercise induced angina, there was still prevalence of heart disease. Exercised induced angina patients also did not show a correlation with max heart rates across most ages, indicating that the angina presence did not have an effect on heart rate variable. The trend of higher heart disease in older ages regardless was also seen as well."
   ]
  },
  {
   "cell_type": "code",
   "execution_count": null,
   "metadata": {},
   "outputs": [],
   "source": [
    "fig = px.histogram(df, x='MaxHR', color='ST_Slope', nbins=20,\n",
    "                   labels={'ST_Slope': 'ST Slope', 'MaxHR': 'Max Heart Rate'},\n",
    "                   title='Distribution of Max Heart Rate by ST Slope',\n",
    "                   color_discrete_map={'0': 'orange', '1': 'yellow', '2': 'blue'})\n",
    "\n",
    "fig.update_layout(height=400, width=600)\n",
    "\n",
    "fig.show()"
   ]
  },
  {
   "cell_type": "markdown",
   "metadata": {},
   "source": [
    "We also wanted to test the impact of ST_Slope on the Max Heart Rate through a simple stacked histogram on Plotly, laden with different colors to indicate the various different slope sizes of Upward, Downward, and Flat, all put into the range of the Max HR. A upward ST_Slope should lead to less of a MaxHR, but the downward ST_Slope would lead to more of a MaxHR rate because of the overall trends in HR. The colors are made in order to check the difference of the stack, so that a difference can be seen between the blue, red, and green graphs accordingly. The results will also connect to the number of overall ranges for MaxHR per ST_Slope."
   ]
  },
  {
   "cell_type": "markdown",
   "metadata": {},
   "source": [
    "#### Machine Learning ####"
   ]
  },
  {
   "cell_type": "code",
   "execution_count": null,
   "metadata": {},
   "outputs": [],
   "source": [
    "\n",
    "from sklearn.model_selection import train_test_split\n",
    "from sklearn.ensemble import RandomForestClassifier\n",
    "from sklearn.metrics import accuracy_score, classification_report, confusion_matrix\n",
    "from sklearn.linear_model import LogisticRegression\n",
    "from sklearn.neural_network import MLPClassifier\n",
    "from sklearn.preprocessing import StandardScaler\n",
    "\n",
    "# Convert categorical variables into numerical format\n",
    "del df['FastingBS']\n",
    "df = pd.get_dummies(df, columns=['Sex', 'ChestPainType', 'RestingECG', 'ExerciseAngina', 'ST_Slope'], drop_first=True)\n",
    "\n",
    "# Split data into X and Y\n",
    "X = df.drop('HeartDisease', axis=1)\n",
    "y = df['HeartDisease']\n",
    "\n",
    "# Split into testing and training datasets\n",
    "X_train, X_test, y_train, y_test = train_test_split(X, y, test_size=0.2, random_state=42)"
   ]
  },
  {
   "cell_type": "markdown",
   "metadata": {},
   "source": [
    "Random Forest"
   ]
  },
  {
   "cell_type": "code",
   "execution_count": null,
   "metadata": {},
   "outputs": [],
   "source": [
    "# Create a random forest classifier\n",
    "rf = RandomForestClassifier(n_estimators=300, random_state=42)\n",
    "\n",
    "# Fit model\n",
    "rf.fit(X_train, y_train)\n",
    "\n",
    "# Make predictions\n",
    "rf_y_pred = rf.predict(X_test)\n",
    "\n",
    "# Evaluate random forest model\n",
    "rf_accuracy = accuracy_score(y_test, rf_y_pred)\n",
    "confusion = confusion_matrix(y_test, rf_y_pred)\n",
    "class_report = classification_report(y_test, rf_y_pred)\n",
    "\n",
    "print(\"Accuracy:\", rf_accuracy)\n",
    "print(\"Classification Report:\\n\", class_report)\n",
    "\n",
    "# Create a custom confusion matrix plot\n",
    "plt.figure(figsize=(8, 6))\n",
    "plt.imshow(confusion, interpolation='nearest', cmap=plt.cm.Blues)\n",
    "plt.title('Confusion Matrix')\n",
    "plt.colorbar()\n",
    "tick_marks = np.arange(len(['No Heart Disease', 'Heart Disease']))\n",
    "plt.xticks(tick_marks, ['No Heart Disease', 'Heart Disease'], rotation=45)\n",
    "plt.yticks(tick_marks, ['No Heart Disease', 'Heart Disease'])\n",
    "\n",
    "# Display the values on the plot\n",
    "for i in range(len(['No Heart Disease', 'Heart Disease'])):\n",
    "    for j in range(len(['No Heart Disease', 'Heart Disease'])):\n",
    "        plt.text(j, i, str(confusion[i, j]), ha='center', va='center', color='black')\n",
    "\n",
    "plt.ylabel('True Label')\n",
    "plt.xlabel('Predicted Label')\n",
    "plt.show()"
   ]
  },
  {
   "cell_type": "markdown",
   "metadata": {},
   "source": [
    "The accuracy of the MLP Classification model is 85%. Precision for predicting no heart disease is 78% and the precision for prediciton heart disease is 90%."
   ]
  },
  {
   "cell_type": "markdown",
   "metadata": {},
   "source": [
    "Logistic Regression"
   ]
  },
  {
   "cell_type": "code",
   "execution_count": null,
   "metadata": {},
   "outputs": [],
   "source": [
    "# create logistic regression model\n",
    "lr = LogisticRegression(max_iter=2000)\n",
    "\n",
    "# fit the model\n",
    "lr.fit(X_train, y_train)\n",
    "\n",
    "# make predictions\n",
    "lr_y_pred = lr.predict(X_test)\n",
    "\n",
    "# evaluate the model\n",
    "lr_accuracy = accuracy_score(y_test, lr_y_pred)\n",
    "confusion = confusion_matrix(y_test, lr_y_pred)\n",
    "class_report = classification_report(y_test, lr_y_pred)\n",
    "\n",
    "print(\"Accuracy:\", lr_accuracy)\n",
    "print(\"Classification Report:\\n\", class_report)\n",
    "\n",
    "# Create a custom confusion matrix plot\n",
    "plt.figure(figsize=(8, 6))\n",
    "plt.imshow(confusion, interpolation='nearest', cmap=plt.cm.Blues)\n",
    "plt.title('Confusion Matrix')\n",
    "plt.colorbar()\n",
    "tick_marks = np.arange(len(['No Heart Disease', 'Heart Disease']))\n",
    "plt.xticks(tick_marks, ['No Heart Disease', 'Heart Disease'], rotation=45)\n",
    "plt.yticks(tick_marks, ['No Heart Disease', 'Heart Disease'])\n",
    "\n",
    "# Display the values on the plot\n",
    "for i in range(len(['No Heart Disease', 'Heart Disease'])):\n",
    "    for j in range(len(['No Heart Disease', 'Heart Disease'])):\n",
    "        plt.text(j, i, str(confusion[i, j]), ha='center', va='center', color='black')\n",
    "\n",
    "plt.ylabel('True Label')\n",
    "plt.xlabel('Predicted Label')\n",
    "plt.show()"
   ]
  },
  {
   "cell_type": "markdown",
   "metadata": {},
   "source": [
    "The accuracy of the Logistic Regression model is 86%. Precision for predicting no heart disease is 78% and the precision for prediciton heart disease is 92%."
   ]
  },
  {
   "cell_type": "markdown",
   "metadata": {},
   "source": [
    "MLP Classification"
   ]
  },
  {
   "cell_type": "code",
   "execution_count": null,
   "metadata": {},
   "outputs": [],
   "source": [
    "scaler = StandardScaler()\n",
    "X_train = scaler.fit_transform(X_train)\n",
    "X_test = scaler.transform(X_test)\n",
    "\n",
    "# Create and train the MLP classifier\n",
    "mlp = MLPClassifier(hidden_layer_sizes=(10, 10), max_iter=2000, learning_rate_init=0.0005, random_state=42)\n",
    "mlp.fit(X_train, y_train)\n",
    "\n",
    "# Make predictions\n",
    "mlp_y_pred = mlp.predict(X_test)\n",
    "\n",
    "# Evaluate the model\n",
    "mlp_accuracy = accuracy_score(y_test, mlp_y_pred)\n",
    "confusion = confusion_matrix(y_test, mlp_y_pred)\n",
    "classification_rep = classification_report(y_test, mlp_y_pred)\n",
    "\n",
    "print(\"Accuracy:\", mlp_accuracy)\n",
    "print(\"Classification Report:\\n\", classification_rep)\n",
    "\n",
    "# Create a custom confusion matrix plot\n",
    "plt.figure(figsize=(8, 6))\n",
    "plt.imshow(confusion, interpolation='nearest', cmap=plt.cm.Blues)\n",
    "plt.title('Confusion Matrix')\n",
    "plt.colorbar()\n",
    "tick_marks = np.arange(len(['No Heart Disease', 'Heart Disease']))\n",
    "plt.xticks(tick_marks, ['No Heart Disease', 'Heart Disease'], rotation=45)\n",
    "plt.yticks(tick_marks, ['No Heart Disease', 'Heart Disease'])\n",
    "\n",
    "# Display the values on the plot\n",
    "for i in range(len(['No Heart Disease', 'Heart Disease'])):\n",
    "    for j in range(len(['No Heart Disease', 'Heart Disease'])):\n",
    "        plt.text(j, i, str(confusion[i, j]), ha='center', va='center', color='black')\n",
    "\n",
    "plt.ylabel('True Label')\n",
    "plt.xlabel('Predicted Label')\n",
    "plt.show()"
   ]
  },
  {
   "cell_type": "markdown",
   "metadata": {},
   "source": [
    "The accuracy of the MLP Classification model is 86%. Precision for predicting no heart disease is 78% and the precision for prediciton heart disease is 93%.Since this model has the highest accuracy and precision, it can be concluded that MLP Classification is the best model to predict whether an individual has heart disease.\n"
   ]
  },
  {
   "cell_type": "markdown",
   "metadata": {},
   "source": [
    "ROC Curves for all Three Models"
   ]
  },
  {
   "cell_type": "code",
   "execution_count": null,
   "metadata": {},
   "outputs": [],
   "source": [
    "from sklearn.metrics import confusion_matrix,accuracy_score,roc_curve,classification_report\n",
    "\n",
    "\n",
    "lr_false_positive_rate,lr_true_positive_rate,lr_threshold = roc_curve(y_test,lr_y_pred)\n",
    "rf_false_positive_rate,rf_true_positive_rate,rf_threshold = roc_curve(y_test,rf_y_pred)\n",
    "mlp_false_positive_rate,mlp_true_positive_rate,mlp_threshold = roc_curve(y_test,mlp_y_pred)\n",
    "\n",
    "sns.set_style('whitegrid')\n",
    "plt.figure(figsize=(10,5))\n",
    "plt.title('Reciver Operating Characterstic Curve')\n",
    "plt.plot(lr_false_positive_rate,lr_true_positive_rate,label='Logistic Regression')\n",
    "plt.plot(rf_false_positive_rate,rf_true_positive_rate,label='Random Forest')\n",
    "plt.plot(mlp_false_positive_rate,mlp_true_positive_rate,label='MLP')\n",
    "\n",
    "plt.plot([0,1],ls='--')\n",
    "plt.plot([0,0],[1,0],c='.5')\n",
    "plt.plot([1,1],c='.5')\n",
    "plt.ylabel('True positive rate')\n",
    "plt.xlabel('False positive rate')\n",
    "plt.legend()\n",
    "plt.show()"
   ]
  },
  {
   "cell_type": "markdown",
   "metadata": {},
   "source": [
    "The ROC curves above demonstrate that MLP is the best model."
   ]
  },
  {
   "cell_type": "markdown",
   "metadata": {},
   "source": [
    "Comparision of Accuracy"
   ]
  },
  {
   "cell_type": "code",
   "execution_count": null,
   "metadata": {},
   "outputs": [],
   "source": [
    "model_ev = pd.DataFrame({'Model': ['Logistic Regression','Random Forest','MLP'], 'Accuracy': [lr_accuracy*100,\n",
    "                    rf_accuracy*100,mlp_accuracy*100]})\n",
    "model_ev"
   ]
  },
  {
   "cell_type": "markdown",
   "metadata": {},
   "source": [
    "---\n",
    "\n",
    "\n",
    "Overall: Since MLP model has the highest accuracy and precision, it can be concluded that MLP Classification is the best model to predict whether an individual has heart disease.\n"
   ]
  },
  {
   "cell_type": "markdown",
   "metadata": {},
   "source": [
    "### Feature Importance"
   ]
  },
  {
   "cell_type": "code",
   "execution_count": null,
   "metadata": {},
   "outputs": [],
   "source": [
    "imp_feature = pd.DataFrame({'Feature': ['Age', 'Sex_M', 'Sex_F', 'RestingBP', 'Oldpeak', 'ChestPainType_ATA', 'ChestPainType_NAP', 'ChestPainType_TA',\n",
    "       'RestingECG_Normal', 'RestingECG_ST', 'ExerciseAngina_Y', 'ST_Slope_Flat', 'ST_Slope_Up'], 'Importance': rf.feature_importances_})\n",
    "plt.figure(figsize=(10,4))\n",
    "plt.title(\"barplot Represent feature importance \")\n",
    "plt.xlabel(\"importance \")\n",
    "plt.ylabel(\"features\")\n",
    "plt.barh(imp_feature['Feature'],imp_feature['Importance'])\n",
    "plt.show()"
   ]
  },
  {
   "cell_type": "markdown",
   "metadata": {},
   "source": [
    "The graph above ranks the feature importance using the random forest model, as MLP does not allow for this ranking. Althrough not the best model, the ranks above do provide more information. ST_Slope, RestingBP, Age, Sex, and ExcersiseAngina prove to be important attributes. This confirms our above analyis into different attributes."
   ]
  },
  {
   "cell_type": "markdown",
   "metadata": {},
   "source": [
    "---\n",
    "\n",
    "\n",
    "**Overall Conclusion:** Age, Resting BP, Max HR, Old peak, Sex, ChestPainType, RestingECG, exercise angina, and ST slope can predict whether an individual has heart disease.\n"
   ]
  }
 ],
 "metadata": {
  "kernelspec": {
   "display_name": "Python 3",
   "language": "python",
   "name": "python3"
  },
  "language_info": {
   "codemirror_mode": {
    "name": "ipython",
    "version": 3
   },
   "file_extension": ".py",
   "mimetype": "text/x-python",
   "name": "python",
   "nbconvert_exporter": "python",
   "pygments_lexer": "ipython3",
   "version": "3.9.6"
  }
 },
 "nbformat": 4,
 "nbformat_minor": 2
}
